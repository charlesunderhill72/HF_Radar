version https://git-lfs.github.com/spec/v1
oid sha256:2f0593dc03462d7e25ce3e389b83492b8585a712f6eb5a7f0095728c16ba2ce5
size 10299138
